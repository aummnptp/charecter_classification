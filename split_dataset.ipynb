{
 "cells": [
  {
   "cell_type": "markdown",
   "metadata": {},
   "source": [
    "1. สร้างไฟล์ annotation.csv ด้วย Python"
   ]
  },
  {
   "cell_type": "code",
   "execution_count": null,
   "metadata": {},
   "outputs": [],
   "source": [
    "import os\n",
    "import pandas as pd\n",
    "\n",
    "# กำหนด path ของโฟลเดอร์ที่เก็บรูปภาพ\n",
    "img_dir = './thaicharecter'  # ตัวอย่างโฟลเดอร์ที่คุณเก็บรูปภาพ\n",
    "\n",
    "# สร้าง list เพื่อเก็บข้อมูล\n",
    "data = []\n",
    "\n",
    "# วน loop ผ่านโฟลเดอร์ (แต่ละโฟลเดอร์เป็น class)\n",
    "for class_folder in os.listdir(img_dir):\n",
    "    class_path = os.path.join(img_dir, class_folder)\n",
    "    \n",
    "    # ตรวจสอบว่ามีแค่โฟลเดอร์เท่านั้น\n",
    "    if os.path.isdir(class_path):\n",
    "        for img_file in os.listdir(class_path):\n",
    "            # เพิ่มข้อมูลในรูปแบบ [ชื่อไฟล์, หมายเลข class]\n",
    "            data.append([img_file, class_folder])\n",
    "\n",
    "# สร้าง DataFrame\n",
    "df = pd.DataFrame(data, columns=['filename', 'label'])\n",
    "\n",
    "# บันทึกลงไฟล์ CSV\n",
    "df.to_csv('annotation.csv', index=False)\n",
    "\n",
    "print(\"สร้างไฟล์ annotation.csv เสร็จเรียบร้อย!\")\n"
   ]
  },
  {
   "cell_type": "markdown",
   "metadata": {},
   "source": [
    "โค้ดสำหรับการแบ่งข้อมูล: 80:20\n",
    "\n"
   ]
  },
  {
   "cell_type": "code",
   "execution_count": null,
   "metadata": {},
   "outputs": [],
   "source": [
    "import pandas as pd \n",
    "from sklearn.model_selection import train_test_split\n",
    "\n",
    "# โหลดไฟล์ annotation.csv\n",
    "annotations_file = './annotation.csv'\n",
    "img_labels = pd.read_csv(annotations_file)\n",
    "\n",
    "# ตรวจสอบว่าคอลัมน์ 'label' เป็นคอลัมน์ที่เก็บคลาสของตัวอักษรไทย\n",
    "labels = img_labels['label']\n",
    "\n",
    "# แบ่งข้อมูล 80% สำหรับ train และ 20% สำหรับ test โดยใช้ stratify เพื่อรักษาสัดส่วนคลาส\n",
    "train_data, test_data = train_test_split(img_labels, test_size=0.2, random_state=42, stratify=labels)\n",
    "\n",
    "# แสดงผลว่าได้ข้อมูลกี่ตัวอย่าง\n",
    "print(f\"Training samples: {len(train_data)}\")\n",
    "print(f\"Testing samples: {len(test_data)}\")\n",
    "\n",
    "# บันทึกข้อมูลแบ่งแยกเป็นไฟล์ CSV สำหรับ train และ test\n",
    "train_data.to_csv('train_annotations.csv', index=False)\n",
    "test_data.to_csv('test_annotations.csv', index=False)"
   ]
  },
  {
   "cell_type": "markdown",
   "metadata": {},
   "source": [
    "แบ่ง train test อีก80:20"
   ]
  },
  {
   "cell_type": "code",
   "execution_count": null,
   "metadata": {},
   "outputs": [],
   "source": [
    "from sklearn.model_selection import train_test_split\n",
    "import pandas as pd\n",
    "\n",
    "# โหลดข้อมูลจากไฟล์ annotations.csv\n",
    "annotations_file = './train/train_annotations.csv'\n",
    "df = pd.read_csv(annotations_file)\n",
    "\n",
    "# แบ่งข้อมูลเป็น 80% train และ 20% validation\n",
    "train_df, val_df = train_test_split(df, test_size=0.2, random_state=42)\n",
    "\n",
    "# บันทึกข้อมูลที่แบ่งแล้วลงไฟล์\n",
    "train_df.to_csv('train_annotations.csv', index=False)\n",
    "val_df.to_csv('test_annotations.csv', index=False)\n",
    "\n",
    "print(f\"Training set size: {len(train_df)}\")\n",
    "print(f\"Validation set size: {len(val_df)}\")"
   ]
  }
 ],
 "metadata": {
  "language_info": {
   "name": "python"
  }
 },
 "nbformat": 4,
 "nbformat_minor": 2
}
