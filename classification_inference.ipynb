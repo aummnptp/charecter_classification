{
 "cells": [
  {
   "cell_type": "code",
   "execution_count": 19,
   "metadata": {},
   "outputs": [
    {
     "data": {
      "text/plain": [
       "<All keys matched successfully>"
      ]
     },
     "execution_count": 19,
     "metadata": {},
     "output_type": "execute_result"
    }
   ],
   "source": [
    "from torchvision.models import densenet121\n",
    "import torch.nn as nn\n",
    "import torch\n",
    "\n",
    "# Define the classes (replace with your own classes for Thai characters)\n",
    "classes = ['class_161', 'class_162', 'class_163', 'class_164', 'class_167', 'class_168', 'class_169', \n",
    "           'class_170', 'class_171', 'class_173', 'class_175', 'class_176', 'class_177', 'class_178', \n",
    "           'class_179', 'class_180', 'class_181', 'class_182', 'class_183', 'class_184', 'class_185', \n",
    "           'class_186', 'class_187', 'class_188', 'class_189', 'class_190', 'class_191', 'class_192', \n",
    "           'class_193', 'class_194', 'class_195']\n",
    "\n",
    "# Load DenseNet model\n",
    "model = densenet121()\n",
    "model.classifier = nn.Linear(1024, len(classes))  # Adjust the output layer based on the number of classes\n",
    "model.load_state_dict(torch.load('./model.pt'))"
   ]
  },
  {
   "cell_type": "code",
   "execution_count": 18,
   "metadata": {},
   "outputs": [
    {
     "name": "stderr",
     "output_type": "stream",
     "text": [
      "C:\\Users\\aumm\\AppData\\Roaming\\Python\\Python39\\site-packages\\torchvision\\transforms\\v2\\_deprecated.py:41: UserWarning: The transform `ToTensor()` is deprecated and will be removed in a future release. Instead, please use `transforms.Compose([transforms.ToImageTensor(), transforms.ConvertImageDtype()])`.\n"
     ]
    },
    {
     "ename": "FileNotFoundError",
     "evalue": "[Errno 2] No such file or directory: 'your_image_path_here.jpg'",
     "output_type": "error",
     "traceback": [
      "\u001b[1;31m---------------------------------------------------------------------------\u001b[0m",
      "\u001b[1;31mFileNotFoundError\u001b[0m                         Traceback (most recent call last)",
      "Cell \u001b[1;32mIn[18], line 13\u001b[0m\n\u001b[0;32m      5\u001b[0m transform \u001b[38;5;241m=\u001b[39m transforms\u001b[38;5;241m.\u001b[39mCompose([\n\u001b[0;32m      6\u001b[0m     transforms\u001b[38;5;241m.\u001b[39mResize((\u001b[38;5;241m256\u001b[39m, \u001b[38;5;241m256\u001b[39m)),  \u001b[38;5;66;03m# Resize the image\u001b[39;00m\n\u001b[0;32m      7\u001b[0m     transforms\u001b[38;5;241m.\u001b[39mToTensor(),  \u001b[38;5;66;03m# Converts a PIL image to a Tensor (handles the ToImage step)\u001b[39;00m\n\u001b[0;32m      8\u001b[0m     transforms\u001b[38;5;241m.\u001b[39mConvertImageDtype(torch\u001b[38;5;241m.\u001b[39mfloat32),  \u001b[38;5;66;03m# Converts the dtype of the image (e.g., to float32)\u001b[39;00m\n\u001b[0;32m      9\u001b[0m     transforms\u001b[38;5;241m.\u001b[39mNormalize(mean\u001b[38;5;241m=\u001b[39m(\u001b[38;5;241m0.5\u001b[39m,), std\u001b[38;5;241m=\u001b[39m(\u001b[38;5;241m0.5\u001b[39m,))  \u001b[38;5;66;03m# Normalize the tensor (assuming it's grayscale)\u001b[39;00m\n\u001b[0;32m     10\u001b[0m ])\n\u001b[0;32m     12\u001b[0m \u001b[38;5;66;03m# Example to apply the transform to a PIL image\u001b[39;00m\n\u001b[1;32m---> 13\u001b[0m img \u001b[38;5;241m=\u001b[39m \u001b[43mImage\u001b[49m\u001b[38;5;241;43m.\u001b[39;49m\u001b[43mopen\u001b[49m\u001b[43m(\u001b[49m\u001b[38;5;124;43m'\u001b[39;49m\u001b[38;5;124;43myour_image_path_here.jpg\u001b[39;49m\u001b[38;5;124;43m'\u001b[39;49m\u001b[43m)\u001b[49m\n\u001b[0;32m     14\u001b[0m img_tensor \u001b[38;5;241m=\u001b[39m transform(img)\n",
      "File \u001b[1;32mc:\\Users\\aumm\\AppData\\Local\\Programs\\Python\\Python39\\lib\\site-packages\\PIL\\Image.py:3236\u001b[0m, in \u001b[0;36mopen\u001b[1;34m(fp, mode, formats)\u001b[0m\n\u001b[0;32m   3233\u001b[0m     filename \u001b[38;5;241m=\u001b[39m fp\n\u001b[0;32m   3235\u001b[0m \u001b[38;5;28;01mif\u001b[39;00m filename:\n\u001b[1;32m-> 3236\u001b[0m     fp \u001b[38;5;241m=\u001b[39m \u001b[43mbuiltins\u001b[49m\u001b[38;5;241;43m.\u001b[39;49m\u001b[43mopen\u001b[49m\u001b[43m(\u001b[49m\u001b[43mfilename\u001b[49m\u001b[43m,\u001b[49m\u001b[43m \u001b[49m\u001b[38;5;124;43m\"\u001b[39;49m\u001b[38;5;124;43mrb\u001b[39;49m\u001b[38;5;124;43m\"\u001b[39;49m\u001b[43m)\u001b[49m\n\u001b[0;32m   3237\u001b[0m     exclusive_fp \u001b[38;5;241m=\u001b[39m \u001b[38;5;28;01mTrue\u001b[39;00m\n\u001b[0;32m   3239\u001b[0m \u001b[38;5;28;01mtry\u001b[39;00m:\n",
      "\u001b[1;31mFileNotFoundError\u001b[0m: [Errno 2] No such file or directory: 'your_image_path_here.jpg'"
     ]
    }
   ],
   "source": [
    "import torchvision.transforms.v2 as transforms\n",
    "from PIL import Image\n",
    "\n",
    "transform = transforms.Compose([\n",
    "    transforms.Resize((256, 256)),\n",
    "    transforms.ToImage(),\n",
    "    transforms.ConvertImageDtype(torch.float32),\n",
    "    transforms.Normalize(mean=(0.5,), std=(0.5,))  # Grayscale normalization\n",
    "])\n",
    "\n"
   ]
  },
  {
   "cell_type": "code",
   "execution_count": 20,
   "metadata": {},
   "outputs": [
    {
     "name": "stdout",
     "output_type": "stream",
     "text": [
      "Predicted: class_191 with confidence 92.62%\n"
     ]
    }
   ],
   "source": [
    "img_path = 'thaicharecter/Screenshot 2024-10-13 123517.png'  # Replace with your image path\n",
    "image = Image.open(img_path).convert('RGB')  # If grayscale, you can use 'L' instead of 'RGB'\n",
    "image = transform(image)\n",
    "\n",
    "# Step 4: Inference\n",
    "# Check if GPU (cuda) is available\n",
    "device = torch.device('cuda:0' if torch.cuda.is_available() else 'cpu')\n",
    "\n",
    "# Move model to device (GPU or CPU)\n",
    "model.to(device)\n",
    "model.eval()\n",
    "\n",
    "# Add batch dimension (unsqueeze)\n",
    "image = image.unsqueeze(0).to(device)\n",
    "\n",
    "# Forward pass through the model\n",
    "with torch.no_grad():\n",
    "    outputs = model(image)\n",
    "\n",
    "# Apply softmax to get probabilities\n",
    "score = torch.softmax(outputs.squeeze(0), 0)\n",
    "_, predicted = torch.max(score, 0)\n",
    "\n",
    "# Step 5: Display the predicted class and confidence score\n",
    "print(f'Predicted: {classes[predicted]} with confidence {score[predicted] * 100:.02f}%')"
   ]
  }
 ],
 "metadata": {
  "kernelspec": {
   "display_name": "Python 3",
   "language": "python",
   "name": "python3"
  },
  "language_info": {
   "codemirror_mode": {
    "name": "ipython",
    "version": 3
   },
   "file_extension": ".py",
   "mimetype": "text/x-python",
   "name": "python",
   "nbconvert_exporter": "python",
   "pygments_lexer": "ipython3",
   "version": "3.9.5"
  }
 },
 "nbformat": 4,
 "nbformat_minor": 2
}
